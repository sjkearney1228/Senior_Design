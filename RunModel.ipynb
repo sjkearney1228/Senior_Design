{
  "nbformat": 4,
  "nbformat_minor": 0,
  "metadata": {
    "kernelspec": {
      "display_name": "Python 3",
      "language": "python",
      "name": "python3"
    },
    "language_info": {
      "codemirror_mode": {
        "name": "ipython",
        "version": 3
      },
      "file_extension": ".py",
      "mimetype": "text/x-python",
      "name": "python",
      "nbconvert_exporter": "python",
      "pygments_lexer": "ipython3",
      "version": "3.7.3"
    },
    "colab": {
      "name": "RunModel.ipynb",
      "provenance": [],
      "collapsed_sections": [],
      "toc_visible": true,
      "include_colab_link": true
    },
    "accelerator": "GPU"
  },
  "cells": [
    {
      "cell_type": "markdown",
      "metadata": {
        "id": "view-in-github",
        "colab_type": "text"
      },
      "source": [
        "<a href=\"https://colab.research.google.com/github/sjkearney1228/Senior_Design/blob/main/RunModel.ipynb\" target=\"_parent\"><img src=\"https://colab.research.google.com/assets/colab-badge.svg\" alt=\"Open In Colab\"/></a>"
      ]
    },
    {
      "cell_type": "code",
      "metadata": {
        "scrolled": true,
        "colab": {
          "base_uri": "https://localhost:8080/"
        },
        "id": "0sIilmtyQ6m1",
        "outputId": "2258e3c7-cde0-40e6-a901-1209a1a2faa9"
      },
      "source": [
        "from keras.models import model_from_json\n",
        "# load json and create model\n",
        "json_file = open('model.json', 'r')\n",
        "loaded_model_json = json_file.read()\n",
        "json_file.close()\n",
        "loaded_model = model_from_json(loaded_model_json)\n",
        "# load weights into new model\n",
        "loaded_model.load_weights(\"model.h5\")\n",
        "print(\"Loaded model from disk\")\n"
      ],
      "execution_count": null,
      "outputs": [
        {
          "output_type": "stream",
          "text": [
            "Loaded model from disk\n",
            "Model: \"sequential_25\"\n",
            "_________________________________________________________________\n",
            "Layer (type)                 Output Shape              Param #   \n",
            "=================================================================\n",
            "model_27 (Functional)        (None, 8, 8, 64)          117472    \n",
            "_________________________________________________________________\n",
            "flatten_25 (Flatten)         (None, 4096)              0         \n",
            "_________________________________________________________________\n",
            "batch_normalization_25 (Batc (None, 4096)              16384     \n",
            "_________________________________________________________________\n",
            "dense_75 (Dense)             (None, 256)               1048832   \n",
            "_________________________________________________________________\n",
            "dropout_50 (Dropout)         (None, 256)               0         \n",
            "_________________________________________________________________\n",
            "dense_76 (Dense)             (None, 256)               65792     \n",
            "_________________________________________________________________\n",
            "dropout_51 (Dropout)         (None, 256)               0         \n",
            "_________________________________________________________________\n",
            "dense_77 (Dense)             (None, 11)                2827      \n",
            "_________________________________________________________________\n",
            "activation_25 (Activation)   (None, 11)                0         \n",
            "=================================================================\n",
            "Total params: 1,251,307\n",
            "Trainable params: 1,243,115\n",
            "Non-trainable params: 8,192\n",
            "_________________________________________________________________\n"
          ],
          "name": "stdout"
        }
      ]
    },
    {
      "cell_type": "code",
      "metadata": {
        "colab": {
          "base_uri": "https://localhost:8080/"
        },
        "id": "Ti68FK2hQ6m3",
        "outputId": "3074416d-ee69-46f7-e7ae-c7b96157ef86"
      },
      "source": [
        "preds = model.evaluate(X_test, Y_test)\r\n",
        "print (\"Loss = \" + str(preds[0]))\r\n",
        "print (\"Test Accuracy = \" + str(preds[1]))"
      ],
      "execution_count": null,
      "outputs": [
        {
          "output_type": "stream",
          "text": [
            "5/5 [==============================] - 0s 5ms/step - loss: 0.0441 - categorical_accuracy: 0.9462\n",
            "Loss = 0.04409581422805786\n",
            "Test Accuracy = 0.9461538195610046\n"
          ],
          "name": "stdout"
        }
      ]
    },
    {
      "cell_type": "code",
      "metadata": {
        "colab": {
          "base_uri": "https://localhost:8080/"
        },
        "id": "wnhxKK3DWi5k",
        "outputId": "22a89efc-a017-416b-f616-7191ac93c622"
      },
      "source": [
        "# evaluate loaded model on test data\r\n",
        "loaded_model.compile(loss='binary_crossentropy', optimizer='rmsprop', metrics=['accuracy'])\r\n",
        "score = loaded_model.evaluate(X_test, Y_test, verbose=0)\r\n",
        "print(\"%s: %.2f%%\" % (loaded_model.metrics_names[1], score[1]*100))"
      ],
      "execution_count": null,
      "outputs": [
        {
          "output_type": "stream",
          "text": [
            "accuracy: 93.08%\n"
          ],
          "name": "stdout"
        }
      ]
    }
  ]
}