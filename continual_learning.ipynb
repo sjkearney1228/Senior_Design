{
  "cells": [
    {
      "cell_type": "markdown",
      "metadata": {
        "id": "view-in-github",
        "colab_type": "text"
      },
      "source": [
        "<a href=\"https://colab.research.google.com/github/sjkearney1228/Senior_Design/blob/main/continual_learning.ipynb\" target=\"_parent\"><img src=\"https://colab.research.google.com/assets/colab-badge.svg\" alt=\"Open In Colab\"/></a>"
      ]
    },
    {
      "cell_type": "markdown",
      "metadata": {
        "id": "eaSUr-B3NEZq"
      },
      "source": [
        "## Installing PyTorch 0.4.0\n",
        "\n",
        "Tensorflow is installed by default in Google Colab (guess why :P). If you want to use another DL toolkit you have to do it by yourself. Run the command below to install it. It should take less than a couple of minutes."
      ]
    },
    {
      "cell_type": "markdown",
      "metadata": {
        "id": "i74kZQufNv5d"
      },
      "source": [
        "Ok, torch is installed and imported! Let' see if it can see the GPU:"
      ]
    },
    {
      "cell_type": "code",
      "execution_count": null,
      "metadata": {
        "colab": {
          "base_uri": "https://localhost:8080/"
        },
        "id": "hv7FUJ2Wrd_l",
        "outputId": "1f3c6a61-bb85-4625-d5df-79892e9f759a"
      },
      "outputs": [
        {
          "output_type": "execute_result",
          "data": {
            "text/plain": [
              "True"
            ]
          },
          "metadata": {},
          "execution_count": 2
        }
      ],
      "source": [
        "import torch\n",
        "torch.cuda.is_available()"
      ]
    },
    {
      "cell_type": "markdown",
      "metadata": {
        "id": "JuSqVkPnN7iT"
      },
      "source": [
        "That's great, let us import then a few libraries, which we'll be using during this tutorial!"
      ]
    },
    {
      "cell_type": "code",
      "execution_count": null,
      "metadata": {
        "id": "w7AxhUWe68vT"
      },
      "outputs": [],
      "source": [
        "import torch\n",
        "import torch.nn as nn\n",
        "import torchvision.datasets as datasets\n",
        "import torchvision.transforms as transforms\n",
        "import torch.optim as optim\n",
        "import torch.nn.functional as F\n",
        "import numpy as np\n",
        "import matplotlib.pyplot as plt"
      ]
    },
    {
      "cell_type": "markdown",
      "source": [
        "# 15 Activity Dataset"
      ],
      "metadata": {
        "id": "GslOD3paZ3MW"
      }
    },
    {
      "cell_type": "code",
      "source": [
        "from google.colab import drive\n",
        "drive.mount('/content/drive')"
      ],
      "metadata": {
        "id": "qXCp2BhEaCIq",
        "colab": {
          "base_uri": "https://localhost:8080/"
        },
        "outputId": "f8173ac9-38ab-4e29-8fb3-8f4336e0ea6f"
      },
      "execution_count": null,
      "outputs": [
        {
          "output_type": "stream",
          "name": "stdout",
          "text": [
            "Drive already mounted at /content/drive; to attempt to forcibly remount, call drive.mount(\"/content/drive\", force_remount=True).\n"
          ]
        }
      ]
    },
    {
      "cell_type": "code",
      "source": [
        "import cv2\n",
        "import glob\n",
        "import os\n",
        "import numpy as np\n",
        "from sklearn.model_selection import train_test_split\n",
        "from keras.utils import to_categorical\n",
        "np.random.seed(1)\n",
        "X_data = []"
      ],
      "metadata": {
        "id": "pS9yPZgVqNZo"
      },
      "execution_count": null,
      "outputs": []
    },
    {
      "cell_type": "code",
      "source": [
        "import pathlib\n",
        "dataset_path=pathlib.Path('/content/drive/MyDrive/Continual_Learning/15_class_dataset/')"
      ],
      "metadata": {
        "id": "MTiKX8RWaSpD"
      },
      "execution_count": null,
      "outputs": []
    },
    {
      "cell_type": "code",
      "source": [
        "mypath = dataset_path\n",
        "dirlist = sorted(os.listdir(mypath))\n",
        "files = sorted(glob.glob ('/content/drive/MyDrive/Continual_Learning/15_class_dataset/*/*.png'))\n",
        "for myFile in files:\n",
        "    # print(myFile)\n",
        "    image = cv2.imread (myFile)\n",
        "    image = cv2.resize(image, (128,128), interpolation = cv2.INTER_AREA)\n",
        "    X_data.append (image)\n",
        "\n",
        "print('X_data shape:', np.array(X_data).shape)\n",
        "\n",
        "# Create pattern to find files for labeling\n",
        "dir_arr=['/' + s + '/' for s in dirlist]\n",
        "\n",
        "# label according to the folder name\n",
        "labels = []\n",
        "for i in files:\n",
        "    res1 = [ele for ele in dir_arr if(ele in i)]\n",
        "    res  = res1[0][1:-1]\n",
        "\n",
        "\n",
        "    if res =='01_Vaccuming floor':\n",
        "        labels.append(0)\n",
        "    elif res =='02_Normal Walk':\n",
        "        labels.append(1)\n",
        "    elif res =='03_short step walk':\n",
        "        labels.append(2)\n",
        "    elif res =='04_Walking with a Cane':\n",
        "        labels.append(3)\n",
        "    elif res =='05_Dragging furniture':\n",
        "        labels.append(4)\n",
        "    elif res =='06_Walk_crutches':\n",
        "        labels.append(5)\n",
        "    elif res =='07_Skipping':\n",
        "        labels.append(6)\n",
        "    elif res =='08_Marching':\n",
        "        labels.append(7)\n",
        "    elif res =='09_Limping':\n",
        "        labels.append(8)\n",
        "    elif res =='10_Weight on both hands':\n",
        "        labels.append(9)\n",
        "    elif res =='11_weight on one hand':\n",
        "        labels.append(10)\n",
        "    elif res =='12_Walking on Toes':\n",
        "        labels.append(11)\n",
        "    elif res =='13_Scissor gait walking':\n",
        "        labels.append(12)\n",
        "    elif res =='14_books on bookshelf':\n",
        "        labels.append(13)\n",
        "    elif res =='15_Folding laundry':\n",
        "        labels.append(14)\n",
        "\n",
        "print('Labels shape:', np.array(labels).shape)"
      ],
      "metadata": {
        "colab": {
          "base_uri": "https://localhost:8080/"
        },
        "id": "SJiAoQS19A2f",
        "outputId": "d2b59e42-f55c-46b5-a785-63ae3fc8484a"
      },
      "execution_count": null,
      "outputs": [
        {
          "output_type": "stream",
          "name": "stdout",
          "text": [
            "X_data shape: (1425, 128, 128, 3)\n",
            "Labels shape: (1425,)\n"
          ]
        }
      ]
    },
    {
      "cell_type": "code",
      "source": [
        "X=np.array(X_data)\n",
        "np_labels=np.array(labels)"
      ],
      "metadata": {
        "id": "hdM-c5Ks9g5i"
      },
      "execution_count": null,
      "outputs": []
    },
    {
      "cell_type": "code",
      "source": [
        "x_train, x_test, t_train, t_test = train_test_split(X, np_labels, test_size=0.20, random_state=42)\n",
        "\n",
        "x_train = x_train.astype(np.float32)\n",
        "x_train /= 255.\n",
        "\n",
        "x_test = x_test.astype(np.float32)\n",
        "x_test /= 255.\n",
        "\n",
        "x_train = np.swapaxes(x_train, 1, 3)\n",
        "# x_train = x_train[:,1,:,:]\n",
        "# x_train = np.expand_dims(x_train, axis=1)\n",
        "\n",
        "x_test = np.swapaxes(x_test, 1, 3)\n",
        "# x_test = x_test[:,1,:,:]\n",
        "# x_test = np.expand_dims(x_test, axis=1)\n",
        "\n",
        "# import keras\n",
        "# t_train = keras.utils.to_categorical(t_train)\n",
        "# t_test = keras.utils.to_categorical(t_test)\n",
        "\n",
        "print(\"x_train dim and type: \", x_train.shape, x_train.dtype)\n",
        "print(\"t_train dim and type: \", t_train.shape, t_train.dtype)\n",
        "print(\"x_test dim and type: \", x_test.shape, x_test.dtype)\n",
        "print(\"t_test dim and type: \", t_test.shape, t_test.dtype)"
      ],
      "metadata": {
        "id": "dR2l9Oyh9o44",
        "colab": {
          "base_uri": "https://localhost:8080/"
        },
        "outputId": "015ec963-2aeb-4411-8018-624199863b89"
      },
      "execution_count": null,
      "outputs": [
        {
          "output_type": "stream",
          "name": "stdout",
          "text": [
            "x_train dim and type:  (1140, 3, 128, 128) float32\n",
            "t_train dim and type:  (1140,) int64\n",
            "x_test dim and type:  (285, 3, 128, 128) float32\n",
            "t_test dim and type:  (285,) int64\n"
          ]
        }
      ]
    },
    {
      "cell_type": "markdown",
      "source": [
        "# Deep Learning"
      ],
      "metadata": {
        "id": "kVFfPHHdZn_m"
      }
    },
    {
      "cell_type": "code",
      "execution_count": null,
      "metadata": {
        "id": "ztZAPQNXZ4ll"
      },
      "outputs": [],
      "source": [
        "# switch to False to use CPU\n",
        "use_cuda = True\n",
        "\n",
        "use_cuda = use_cuda and torch.cuda.is_available()\n",
        "device = torch.device(\"cuda\" if use_cuda else \"cpu\");\n",
        "torch.manual_seed(1);"
      ]
    },
    {
      "cell_type": "markdown",
      "metadata": {
        "id": "0Ek0mErIac6n"
      },
      "source": [
        "... and define our first conv-net! We will use 3 layers of convolutions and two fully connected layers:"
      ]
    },
    {
      "cell_type": "code",
      "execution_count": null,
      "metadata": {
        "id": "ONMdybG4Be0z"
      },
      "outputs": [],
      "source": [
        "class Net(nn.Module):\n",
        "    def __init__(self):\n",
        "        super(Net, self).__init__()\n",
        "        # self.conv1 = nn.Conv2d(1, 10, kernel_size=5)\n",
        "        # self.conv2 = nn.Conv2d(10, 30, kernel_size=5)\n",
        "        self.conv1 = nn.Conv2d(3, 15, kernel_size=5)\n",
        "        self.conv2 = nn.Conv2d(15, 30, kernel_size=5)\n",
        "        self.conv2_drop = nn.Dropout2d()\n",
        "        # self.fc1 = nn.Linear(320, 50)\n",
        "        self.fc1 = nn.Linear(25230, 90)\n",
        "        # self.fc2 = nn.Linear(50, 10)\n",
        "        self.fc2 = nn.Linear(90, 15)\n",
        "\n",
        "    def forward(self, x):\n",
        "        x = F.relu(F.max_pool2d(self.conv1(x), 2))\n",
        "        print(x.shape)\n",
        "        x = F.relu(F.max_pool2d(self.conv2_drop(self.conv2(x)), 2))\n",
        "        print(x.shape)\n",
        "        # x = x.view(-1, 320)\n",
        "        x = x.view(-1, 25230)\n",
        "        print(x.shape)\n",
        "        x = F.relu(self.fc1(x))\n",
        "        # print(x.shape)\n",
        "        x = F.dropout(x, training=self.training)\n",
        "        # print(x.shape)\n",
        "        x = self.fc2(x)\n",
        "        # print(x.shape)\n",
        "        return x"
      ]
    },
    {
      "cell_type": "markdown",
      "metadata": {
        "id": "p9S6a-MlYAsu"
      },
      "source": [
        "Then we can write the *train* and *test* functions. Note that for simplicity here we are not using PyTorch [Data Loaders](https://pytorch.org/tutorials/beginner/data_loading_tutorial.html) but this is not recommended for efficiency."
      ]
    },
    {
      "cell_type": "code",
      "execution_count": null,
      "metadata": {
        "id": "HGJJfXhJB-zk"
      },
      "outputs": [],
      "source": [
        "def train(model, device, x_train, t_train, optimizer, epoch):\n",
        "    model.train()\n",
        "    \n",
        "    for start in range(0, len(t_train)-1, 256):\n",
        "      end = start + 256\n",
        "      x, y = torch.from_numpy(x_train[start:end]), torch.from_numpy(t_train[start:end]).long()\n",
        "      x, y = x.to(device), y.to(device)\n",
        "      \n",
        "      optimizer.zero_grad()\n",
        "\n",
        "      print(x.shape)\n",
        "      output = model(x)\n",
        "      print(output.shape)\n",
        "      # print('here cmodel()')\n",
        "      loss = F.cross_entropy(output, y)\n",
        "      print('here cross entropy')\n",
        "      loss.backward()\n",
        "      optimizer.step()\n",
        "      #print(loss.item())\n",
        "    print('Train Epoch: {} \\tLoss: {:.6f}'.format(epoch, loss.item()))\n",
        "\n",
        "def test(model, device, x_test, t_test):\n",
        "    model.eval()\n",
        "    test_loss = 0\n",
        "    correct = 0\n",
        "    for start in range(0, len(t_test)-1, 256):\n",
        "      end = start + 256\n",
        "      with torch.no_grad():\n",
        "        x, y = torch.from_numpy(x_test[start:end]), torch.from_numpy(t_test[start:end]).long()\n",
        "        x, y = x.to(device), y.to(device)\n",
        "        output = model(x)\n",
        "        test_loss += F.cross_entropy(output, y).item() # sum up batch loss\n",
        "        pred = output.max(1, keepdim=True)[1] # get the index of the max logit\n",
        "        correct += pred.eq(y.view_as(pred)).sum().item()\n",
        "\n",
        "    test_loss /= len(t_train)\n",
        "    print('Test set: Average loss: {:.4f}, Accuracy: {}/{} ({:.0f}%)\\n'.format(\n",
        "        test_loss, correct, len(t_test),\n",
        "        100. * correct / len(t_test)))\n",
        "    return 100. * correct / len(t_test)"
      ]
    },
    {
      "cell_type": "markdown",
      "metadata": {
        "id": "IxIISdDPaqb9"
      },
      "source": [
        "Then we are ready to instantiate our model and start the training!"
      ]
    },
    {
      "cell_type": "code",
      "execution_count": null,
      "metadata": {
        "id": "1cJURe0JCFh8"
      },
      "outputs": [],
      "source": [
        "model = Net().to(device)\n",
        "optimizer = optim.SGD(model.parameters(), lr=0.01, momentum=0.9)"
      ]
    },
    {
      "cell_type": "code",
      "execution_count": null,
      "metadata": {
        "id": "BlhVt8vylpUv"
      },
      "outputs": [],
      "source": [
        "for epoch in range(1, 3):\n",
        "  train(model, device, x_train, t_train, optimizer, epoch)\n",
        "  test(model, device, x_test, t_test)"
      ]
    },
    {
      "cell_type": "markdown",
      "metadata": {
        "id": "7qwh4T5Va86-"
      },
      "source": [
        "Wow! 94% accuracy in such a short time. \n",
        "\n",
        "**Questions to explore:**\n",
        "\n",
        "*   Can you find a better parametrization to improve the final accuracy?\n",
        "*   Can you change the network architecture to improve the final accuracy?\n",
        "*   Can you achieve the same performances with a smaller architecture?\n",
        "*   What's the difference in accuracy if you change convolutions with fully connected layers?\n",
        "\n",
        "Some tips here: http://rodrigob.github.io/are_we_there_yet/build/classification_datasets_results.html#4d4e495354"
      ]
    }
  ],
  "metadata": {
    "accelerator": "GPU",
    "colab": {
      "provenance": [],
      "include_colab_link": true
    },
    "kernelspec": {
      "display_name": "Python 3",
      "language": "python",
      "name": "python3"
    },
    "language_info": {
      "codemirror_mode": {
        "name": "ipython",
        "version": 3
      },
      "file_extension": ".py",
      "mimetype": "text/x-python",
      "name": "python",
      "nbconvert_exporter": "python",
      "pygments_lexer": "ipython3",
      "version": "3.7.1"
    },
    "gpuClass": "standard"
  },
  "nbformat": 4,
  "nbformat_minor": 0
}